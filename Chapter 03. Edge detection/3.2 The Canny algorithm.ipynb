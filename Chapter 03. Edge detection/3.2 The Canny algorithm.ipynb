{
 "cells": [
  {
   "cell_type": "markdown",
   "metadata": {},
   "source": [
    "## 3.2 The Canny algorithm \n",
    "\n",
    "In this notebook we will take a look at a widely used algorithm that is a combination of different techniques: the **Canny algorithm**"
   ]
  },
  {
   "cell_type": "markdown",
   "metadata": {},
   "source": [
    "## Problem context - Edge detection for medical images\n",
    "\n",
    "Unfortunately, you were not accepted (yet!) by the researching team at *Hospital Clínico* because the obtained results in the previous notebook were not as good as expected. Anyway, they have shown you the algorithms that they are currently using so you can study them for future opportunities. Let's have a look!\n",
    "\n",
    "<img src=\"./images/hired.jpg\" width=\"300\">"
   ]
  },
  {
   "cell_type": "code",
   "execution_count": 1,
   "metadata": {},
   "outputs": [],
   "source": [
    "import numpy as np\n",
    "from scipy import signal\n",
    "import cv2\n",
    "import matplotlib.pyplot as plt\n",
    "import matplotlib\n",
    "from ipywidgets import interact, fixed, widgets\n",
    "from mpl_toolkits.mplot3d import Axes3D\n",
    "\n",
    "matplotlib.rcParams['figure.figsize'] = (15.0, 15.0)\n",
    "\n",
    "images_path = './images/'"
   ]
  },
  {
   "cell_type": "markdown",
   "metadata": {},
   "source": [
    "## 3.2.1 How it works <a id=323></a>\n",
    "\n",
    "The Canny edge detector<sup>[[1]](#cite1)</sup> is an algorithm that combines a number of techniques: \n",
    "- the DroG operator, \n",
    "- non-maxima suppression, and \n",
    "- hysteresis. \n",
    "\n",
    "It was designed to be a good detector, yield a good localization, and to provide a single response!\n",
    "\n",
    "This algorithm consists of the following steps:\n",
    "\n",
    "1. **Noise filtering and gradient image**. Apply the DroG operator to reduce noise and obtain a gradient image.$\\\\[5pt]$\n",
    "\n",
    "2. **Non-maximum suppression**. This removes pixels that are not considered to be part of an edge. Typically, the gradient image obtained after using DroG presents thick edges. The idea is to keep only those pixels that are maximum within their neighborhood in the direction of the gradient, suppressing the rest of them. Hence, only thin lines (candidate edges) will remain. For that:\n",
    "\n",
    "     - We consider 4 main directions or *angular sectors*: $[0,45]$, $[45,90]$, $[90,135]$, $[135,180]$. The gradient angle $\\theta[i,j]$ is approximated by where it lays. \n",
    "     - A 3x3 filter is moved over the gradient image $G[i,j]$ at each pixel, and it suppresses the edge strength of the center pixel (for example by setting its value to 0) if its magnitude is not greater than the magnitude of the two neighbors in the gradient direction. This way we have a single response at each edge.\n",
    "\n",
    "<img src=\"./images/canny_nonmaxima.png\" width=\"800\">\n",
    "\n",
    "3. **Hysteresis**: The final step, for which the Canny algorithm uses two thresholds (upper and lower) to determine edge pixels:\n",
    "\n",
    "    - If the grey level of a candidate pixel of the gradient image is higher than the upper threshold, the pixel is accepted as an edge.\n",
    "    - If the grey level of a candidate pixel of the gradient image is below the lower threshold, then it is rejected.\n",
    "    - If the grey level of a candidate pixel of the gradient image is between the two thresholds, then it will be accepted only if it is connected to a pixel that is above the upper threshold and rejected otherwise.\n",
    "   \n",
    "<img src=\"./images/hysteresis.png\" width=\"800\">\n",
    "\n",
    "This algorithm can be executed repeatedly with different levels of smoothing (changing the sigma of the DroG operator). Different sigmas produce edges at different spatial features."
   ]
  },
  {
   "cell_type": "markdown",
   "metadata": {},
   "source": [
    "### **<span style=\"color:green\"><b><i>ASSIGNMENT 1: The enormously popular Canny algorithm</i></b></span>**\n",
    "\n",
    "Complete `canny_testing()`, which applies the Canny algorithm. Note that OpenCV Canny's implementation does not apply Gaussian smoothing, but directly applies Sobel. This gives to us the opportunity to:\n",
    "\n",
    "1. check the performance of this technique by considering the initial image and a smoothed version of it. *Note: use our popular `gaussian_smoothing()` function for blurring the image*\n",
    "2. After this, display both resulting images along the original one. \n",
    "\n",
    "This function takes as arguments: \n",
    "- an image, \n",
    "- both lower and upper Canny thresholds, and \n",
    "- the parameters of the Gaussian filter.\n",
    "\n",
    "Interesting functions:\n",
    "- OpenCV implements the Canny algorithm in [cv2.Canny()](https://docs.opencv.org/2.4/modules/imgproc/doc/feature_detection.html?highlight=canny)."
   ]
  },
  {
   "cell_type": "code",
   "execution_count": 2,
   "metadata": {},
   "outputs": [],
   "source": [
    "# ASSIGNMENT 1a\n",
    "# Implement a function that blurres an input image using a Gaussian filter and then normalizes it.\n",
    "def gaussian_smoothing(image, sigma, w_kernel):\n",
    "    \"\"\" Blur and normalize input image.   \n",
    "    \n",
    "        Args:\n",
    "            image: Input image to be binarized\n",
    "            sigma: Standard deviation of the Gaussian distribution\n",
    "            w_kernel: Kernel aperture size\n",
    "                    \n",
    "        Returns: \n",
    "            smoothed_norm: Blurred image\n",
    "    \"\"\"   \n",
    "    # Write your code here!\n",
    "    \n",
    "    # Define 1D kernel\n",
    "    s=sigma\n",
    "    w=w_kernel\n",
    "    kernel_1D = np.array([np.exp(-z*z/(2*s*s))/np.sqrt(2*np.pi*s*s) for z in range(-w,w+1)])\n",
    "    \n",
    "    # Apply distributive property of convolution\n",
    "    vertical_kernel = kernel_1D.reshape(2*w+1,1)\n",
    "    horizontal_kernel = kernel_1D.reshape(1,2*w+1)   \n",
    "    gaussian_kernel_2D = signal.convolve2d(vertical_kernel, horizontal_kernel)   \n",
    "    \n",
    "    # Blur image\n",
    "    smoothed_img = cv2.filter2D(image,cv2.CV_8U,gaussian_kernel_2D)\n",
    "    \n",
    "    # Normalize to [0 254] values\n",
    "    smoothed_norm = np.array(image.shape)\n",
    "    smoothed_norm = cv2.normalize(smoothed_img,None, 0, 255, cv2.NORM_MINMAX) # Leave the second argument as None\n",
    "    \n",
    "    return smoothed_norm"
   ]
  },
  {
   "cell_type": "code",
   "execution_count": 3,
   "metadata": {},
   "outputs": [],
   "source": [
    "# ASSIGNMENT 2\n",
    "# Implement a function that applies the Canny operator to an input image and to a blurred version of it. \n",
    "# Display a 1x3 plot with the original image and the two resulting edge images.\n",
    "# Inputs: image, size of the Laplacian kernel, sigma and size of the Gaussian kernel\n",
    "def canny_testing(image, lower_threshold, upper_threshold, sigma, w_gaussian):\n",
    "    \"\"\" Apply Canny algorithm to an image.   \n",
    "    \n",
    "        Args:\n",
    "            image: Input image to be binarized\n",
    "            lower_threshold: bottom value for hysteresis\n",
    "            upper_threshold: top value for hysteresis\n",
    "            sigma: Standard deviation of the Gaussian distribution\n",
    "            w_gaussian: Gaussian kernel aperture size\n",
    "    \"\"\"  \n",
    "    \n",
    "    # Smooth image\n",
    "    blurred_img = gaussian_smoothing(image,sigma,w_gaussian)\n",
    "    \n",
    "    # Apply Canny to original image\n",
    "    canny = cv2.Canny(image,lower_threshold,upper_threshold)\n",
    "    \n",
    "    # Apply Canny to blurred image\n",
    "    canny_blurred = cv2.Canny(blurred_img,lower_threshold,upper_threshold)\n",
    "\n",
    "    # Show initial image\n",
    "    plt.subplot(131)\n",
    "    plt.imshow(image, cmap='gray')\n",
    "    plt.title('Original image')\n",
    "    \n",
    "    # Show Canny without blurring\n",
    "    plt.subplot(132)\n",
    "    plt.imshow(canny, cmap='gray')\n",
    "    plt.title('Canny without smoothing')\n",
    "    \n",
    "    # Show Canny with blurring\n",
    "    plt.subplot(133)\n",
    "    plt.imshow(canny_blurred, cmap='gray')\n",
    "    plt.title('Canny smoothed')\n",
    "    \n",
    "    plt.figure()\n",
    "    plt.imshow(canny_blurred, cmap='gray')"
   ]
  },
  {
   "cell_type": "markdown",
   "metadata": {},
   "source": [
    "Among the multiple parameters of this algorithm, it is interesting to check its performance with different levels of smoothing (changing the sigma of the DroG operator). As commented, different sigma produces edges at different spatial features. **Try the effect of this and other parameters** playing with the interactive parameters in the following code cell. You can also try with your own images."
   ]
  },
  {
   "cell_type": "code",
   "execution_count": 5,
   "metadata": {},
   "outputs": [
    {
     "data": {
      "application/vnd.jupyter.widget-view+json": {
       "model_id": "254b162bba0d48348269c13ff2ed5983",
       "version_major": 2,
       "version_minor": 0
      },
      "text/plain": [
       "interactive(children=(IntSlider(value=120, description='lower_threshold', max=260, step=20), IntSlider(value=1…"
      ]
     },
     "metadata": {},
     "output_type": "display_data"
    }
   ],
   "source": [
    "# Read an image\n",
    "image = cv2.imread(images_path + 'medical_3.jpg', 0)\n",
    "\n",
    "# Interact with the parameters\n",
    "interact(canny_testing, image=fixed(image), lower_threshold=(0,260,20), upper_threshold=(0,260,20), sigma=(1,3,0.1), w_gaussian=(1,3,1));"
   ]
  },
  {
   "cell_type": "markdown",
   "metadata": {},
   "source": [
    "### <font color=\"blue\"><b><i>Thinking about it (1)</i></b></font>\n",
    "\n",
    "Now, **answer following questions**:\n",
    "\n",
    "- Could Canny be applied without a previous blurring? Which are the consequences of this?\n",
    "  \n",
    "    <p style=\"margin: 4px 0px 6px 5px; color:blue\"><i>Your answer here!</i></p>\n",
    "    \n",
    "- What is a *good* value for both, lower and upper thresholds? Would these values be the same for any input image?\n",
    "  \n",
    "    <p style=\"margin: 4px 0px 0px 5px; color:blue\"><i>Your answer here!</i></p>  \n",
    "    \n",
    "- Now that you have tried a good number of edge detection methods, **which one is your favorite, and why?**\n",
    "\n",
    "    <p style=\"margin: 4px 0px 0px 5px; color:blue\"><i>Your answer here!</i></p>  "
   ]
  },
  {
   "cell_type": "markdown",
   "metadata": {},
   "source": [
    "## Conclusion\n",
    "\n",
    "Terrific! You finished this notebook, that includes information about:\n",
    "\n",
    "- Laplacian and LoG operators and the importance of smoothing, and\n",
    "- how the Canny algorithm is implemented and how to use it."
   ]
  },
  {
   "cell_type": "markdown",
   "metadata": {},
   "source": [
    "## Curiosity\n",
    "\n",
    "The Canny algorithm is a well known algorithm in the computer vision field. It is used in a lot of modern technologies. However, the original paper was published in 1986 by John Canny<sup>[[1]](#cite1)</sup>."
   ]
  },
  {
   "cell_type": "markdown",
   "metadata": {},
   "source": [
    "## References\n",
    "\n",
    "<a name=\"myfootnote1\">[1]</a>: CANNY, John. [A computational approach to edge detection.](https://www.google.com/url?sa=t&rct=j&q=&esrc=s&source=web&cd=10&ved=2ahUKEwiU9uyiganoAhWNDWMBHducCvsQFjAJegQIBhAB&url=http%3A%2F%2Fciteseerx.ist.psu.edu%2Fviewdoc%2Fdownload%3Fdoi%3D10.1.1.420.3300%26rep%3Drep1%26type%3Dpdf&usg=AOvVaw3tsKoxnc3qnS7bji3HmvQc). IEEE Transactions on pattern analysis and machine intelligence, 1986, no 6, p. 679-698."
   ]
  }
 ],
 "metadata": {
  "kernelspec": {
   "display_name": "Python 3 (ipykernel)",
   "language": "python",
   "name": "python3"
  },
  "language_info": {
   "codemirror_mode": {
    "name": "ipython",
    "version": 3
   },
   "file_extension": ".py",
   "mimetype": "text/x-python",
   "name": "python",
   "nbconvert_exporter": "python",
   "pygments_lexer": "ipython3",
   "version": "3.10.7"
  },
  "varInspector": {
   "cols": {
    "lenName": 16,
    "lenType": 16,
    "lenVar": 40
   },
   "kernels_config": {
    "python": {
     "delete_cmd_postfix": "",
     "delete_cmd_prefix": "del ",
     "library": "var_list.py",
     "varRefreshCmd": "print(var_dic_list())"
    },
    "r": {
     "delete_cmd_postfix": ") ",
     "delete_cmd_prefix": "rm(",
     "library": "var_list.r",
     "varRefreshCmd": "cat(var_dic_list()) "
    }
   },
   "types_to_exclude": [
    "module",
    "function",
    "builtin_function_or_method",
    "instance",
    "_Feature"
   ],
   "window_display": false
  }
 },
 "nbformat": 4,
 "nbformat_minor": 4
}
